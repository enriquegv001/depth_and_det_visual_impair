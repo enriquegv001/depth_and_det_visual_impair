{
 "cells": [
  {
   "cell_type": "code",
   "execution_count": 2,
   "metadata": {},
   "outputs": [
    {
     "name": "stdout",
     "output_type": "stream",
     "text": [
      "Renaming completed.\n"
     ]
    }
   ],
   "source": [
    "import os\n",
    "\n",
    "# Specify the path to the folder containing the photos\n",
    "folder_path = \"./img2\"\n",
    "\n",
    "# Get a list of files in the folder\n",
    "files = os.listdir(folder_path)\n",
    "\n",
    "# Set the initial value for iteration\n",
    "iteration = 1\n",
    "\n",
    "# Iterate through the files in the folder\n",
    "for file in files:\n",
    "    # Check if the file is a photo (you can modify the condition based on the file extensions of your photos)\n",
    "    if file.lower().endswith(('.png', '.jpg', '.jpeg', '.gif')):\n",
    "        # Generate the new filename with \"im\" prefix and the current iteration value\n",
    "        new_filename = f\"im{iteration}.{file.split('.')[-1]}\"\n",
    "        \n",
    "        # Construct the full paths for the old and new filenames\n",
    "        old_filepath = os.path.join(folder_path, file)\n",
    "        new_filepath = os.path.join(folder_path, new_filename)\n",
    "        \n",
    "        # Rename the file\n",
    "        os.rename(old_filepath, new_filepath)\n",
    "        \n",
    "        # Increment the iteration value for the next file\n",
    "        iteration += 1\n",
    "\n",
    "print(\"Renaming completed.\")"
   ]
  }
 ],
 "metadata": {
  "kernelspec": {
   "display_name": "base",
   "language": "python",
   "name": "python3"
  },
  "language_info": {
   "codemirror_mode": {
    "name": "ipython",
    "version": 3
   },
   "file_extension": ".py",
   "mimetype": "text/x-python",
   "name": "python",
   "nbconvert_exporter": "python",
   "pygments_lexer": "ipython3",
   "version": "3.11.4"
  }
 },
 "nbformat": 4,
 "nbformat_minor": 2
}
